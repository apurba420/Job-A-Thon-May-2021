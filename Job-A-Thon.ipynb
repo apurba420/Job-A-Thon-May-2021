{
 "cells": [
  {
   "cell_type": "code",
   "execution_count": 1,
   "id": "cognitive-mileage",
   "metadata": {},
   "outputs": [
    {
     "name": "stdout",
     "output_type": "stream",
     "text": [
      "C:\\Users\\apurb\\Downloads\\jobathon\n"
     ]
    }
   ],
   "source": [
    "cd Downloads/jobathon"
   ]
  },
  {
   "cell_type": "code",
   "execution_count": 2,
   "id": "directed-inside",
   "metadata": {},
   "outputs": [],
   "source": [
    "import numpy as np\n",
    "import pandas as pd\n",
    "from sklearn import *\n",
    "import seaborn as sns\n",
    "import matplotlib.pyplot as plt\n",
    "from sklearn.model_selection import train_test_split\n",
    "from xgboost import XGBClassifier\n",
    "from xgboost import *\n",
    "from sklearn.metrics import accuracy_score"
   ]
  },
  {
   "cell_type": "code",
   "execution_count": 3,
   "id": "unlimited-effects",
   "metadata": {},
   "outputs": [],
   "source": [
    "train = pd.read_csv('train.csv')\n",
    "test = pd.read_csv('test.csv')\n",
    "submission = pd.read_csv('sample_submission.csv')"
   ]
  },
  {
   "cell_type": "code",
   "execution_count": 4,
   "id": "nutritional-circuit",
   "metadata": {},
   "outputs": [],
   "source": [
    "df = pd.concat([train, test])\n",
    "df.reset_index(drop=True,inplace=True)"
   ]
  },
  {
   "cell_type": "code",
   "execution_count": 5,
   "id": "formal-sacramento",
   "metadata": {
    "scrolled": true
   },
   "outputs": [
    {
     "data": {
      "text/html": [
       "<div>\n",
       "<style scoped>\n",
       "    .dataframe tbody tr th:only-of-type {\n",
       "        vertical-align: middle;\n",
       "    }\n",
       "\n",
       "    .dataframe tbody tr th {\n",
       "        vertical-align: top;\n",
       "    }\n",
       "\n",
       "    .dataframe thead th {\n",
       "        text-align: right;\n",
       "    }\n",
       "</style>\n",
       "<table border=\"1\" class=\"dataframe\">\n",
       "  <thead>\n",
       "    <tr style=\"text-align: right;\">\n",
       "      <th></th>\n",
       "      <th>ID</th>\n",
       "      <th>Gender</th>\n",
       "      <th>Age</th>\n",
       "      <th>Region_Code</th>\n",
       "      <th>Occupation</th>\n",
       "      <th>Channel_Code</th>\n",
       "      <th>Vintage</th>\n",
       "      <th>Credit_Product</th>\n",
       "      <th>Avg_Account_Balance</th>\n",
       "      <th>Is_Active</th>\n",
       "      <th>Is_Lead</th>\n",
       "    </tr>\n",
       "  </thead>\n",
       "  <tbody>\n",
       "    <tr>\n",
       "      <th>0</th>\n",
       "      <td>NNVBBKZB</td>\n",
       "      <td>Female</td>\n",
       "      <td>73</td>\n",
       "      <td>RG268</td>\n",
       "      <td>Other</td>\n",
       "      <td>X3</td>\n",
       "      <td>43</td>\n",
       "      <td>No</td>\n",
       "      <td>1045696</td>\n",
       "      <td>No</td>\n",
       "      <td>0.0</td>\n",
       "    </tr>\n",
       "    <tr>\n",
       "      <th>1</th>\n",
       "      <td>IDD62UNG</td>\n",
       "      <td>Female</td>\n",
       "      <td>30</td>\n",
       "      <td>RG277</td>\n",
       "      <td>Salaried</td>\n",
       "      <td>X1</td>\n",
       "      <td>32</td>\n",
       "      <td>No</td>\n",
       "      <td>581988</td>\n",
       "      <td>No</td>\n",
       "      <td>0.0</td>\n",
       "    </tr>\n",
       "    <tr>\n",
       "      <th>2</th>\n",
       "      <td>HD3DSEMC</td>\n",
       "      <td>Female</td>\n",
       "      <td>56</td>\n",
       "      <td>RG268</td>\n",
       "      <td>Self_Employed</td>\n",
       "      <td>X3</td>\n",
       "      <td>26</td>\n",
       "      <td>No</td>\n",
       "      <td>1484315</td>\n",
       "      <td>Yes</td>\n",
       "      <td>0.0</td>\n",
       "    </tr>\n",
       "    <tr>\n",
       "      <th>3</th>\n",
       "      <td>BF3NC7KV</td>\n",
       "      <td>Male</td>\n",
       "      <td>34</td>\n",
       "      <td>RG270</td>\n",
       "      <td>Salaried</td>\n",
       "      <td>X1</td>\n",
       "      <td>19</td>\n",
       "      <td>No</td>\n",
       "      <td>470454</td>\n",
       "      <td>No</td>\n",
       "      <td>0.0</td>\n",
       "    </tr>\n",
       "    <tr>\n",
       "      <th>4</th>\n",
       "      <td>TEASRWXV</td>\n",
       "      <td>Female</td>\n",
       "      <td>30</td>\n",
       "      <td>RG282</td>\n",
       "      <td>Salaried</td>\n",
       "      <td>X1</td>\n",
       "      <td>33</td>\n",
       "      <td>No</td>\n",
       "      <td>886787</td>\n",
       "      <td>No</td>\n",
       "      <td>0.0</td>\n",
       "    </tr>\n",
       "    <tr>\n",
       "      <th>...</th>\n",
       "      <td>...</td>\n",
       "      <td>...</td>\n",
       "      <td>...</td>\n",
       "      <td>...</td>\n",
       "      <td>...</td>\n",
       "      <td>...</td>\n",
       "      <td>...</td>\n",
       "      <td>...</td>\n",
       "      <td>...</td>\n",
       "      <td>...</td>\n",
       "      <td>...</td>\n",
       "    </tr>\n",
       "    <tr>\n",
       "      <th>351032</th>\n",
       "      <td>DBENJOYI</td>\n",
       "      <td>Male</td>\n",
       "      <td>52</td>\n",
       "      <td>RG268</td>\n",
       "      <td>Salaried</td>\n",
       "      <td>X2</td>\n",
       "      <td>86</td>\n",
       "      <td>Yes</td>\n",
       "      <td>4242558</td>\n",
       "      <td>Yes</td>\n",
       "      <td>NaN</td>\n",
       "    </tr>\n",
       "    <tr>\n",
       "      <th>351033</th>\n",
       "      <td>CWQ72DWS</td>\n",
       "      <td>Male</td>\n",
       "      <td>55</td>\n",
       "      <td>RG277</td>\n",
       "      <td>Other</td>\n",
       "      <td>X2</td>\n",
       "      <td>86</td>\n",
       "      <td>Yes</td>\n",
       "      <td>1159153</td>\n",
       "      <td>No</td>\n",
       "      <td>NaN</td>\n",
       "    </tr>\n",
       "    <tr>\n",
       "      <th>351034</th>\n",
       "      <td>HDESC8GU</td>\n",
       "      <td>Male</td>\n",
       "      <td>35</td>\n",
       "      <td>RG254</td>\n",
       "      <td>Salaried</td>\n",
       "      <td>X4</td>\n",
       "      <td>15</td>\n",
       "      <td>No</td>\n",
       "      <td>1703727</td>\n",
       "      <td>No</td>\n",
       "      <td>NaN</td>\n",
       "    </tr>\n",
       "    <tr>\n",
       "      <th>351035</th>\n",
       "      <td>2PW4SFCA</td>\n",
       "      <td>Male</td>\n",
       "      <td>53</td>\n",
       "      <td>RG254</td>\n",
       "      <td>Other</td>\n",
       "      <td>X3</td>\n",
       "      <td>93</td>\n",
       "      <td>No</td>\n",
       "      <td>737178</td>\n",
       "      <td>Yes</td>\n",
       "      <td>NaN</td>\n",
       "    </tr>\n",
       "    <tr>\n",
       "      <th>351036</th>\n",
       "      <td>F2NOYPPZ</td>\n",
       "      <td>Male</td>\n",
       "      <td>27</td>\n",
       "      <td>RG256</td>\n",
       "      <td>Salaried</td>\n",
       "      <td>X1</td>\n",
       "      <td>21</td>\n",
       "      <td>No</td>\n",
       "      <td>591565</td>\n",
       "      <td>No</td>\n",
       "      <td>NaN</td>\n",
       "    </tr>\n",
       "  </tbody>\n",
       "</table>\n",
       "<p>351037 rows × 11 columns</p>\n",
       "</div>"
      ],
      "text/plain": [
       "              ID  Gender  Age Region_Code     Occupation Channel_Code  \\\n",
       "0       NNVBBKZB  Female   73       RG268          Other           X3   \n",
       "1       IDD62UNG  Female   30       RG277       Salaried           X1   \n",
       "2       HD3DSEMC  Female   56       RG268  Self_Employed           X3   \n",
       "3       BF3NC7KV    Male   34       RG270       Salaried           X1   \n",
       "4       TEASRWXV  Female   30       RG282       Salaried           X1   \n",
       "...          ...     ...  ...         ...            ...          ...   \n",
       "351032  DBENJOYI    Male   52       RG268       Salaried           X2   \n",
       "351033  CWQ72DWS    Male   55       RG277          Other           X2   \n",
       "351034  HDESC8GU    Male   35       RG254       Salaried           X4   \n",
       "351035  2PW4SFCA    Male   53       RG254          Other           X3   \n",
       "351036  F2NOYPPZ    Male   27       RG256       Salaried           X1   \n",
       "\n",
       "        Vintage Credit_Product  Avg_Account_Balance Is_Active  Is_Lead  \n",
       "0            43             No              1045696        No      0.0  \n",
       "1            32             No               581988        No      0.0  \n",
       "2            26             No              1484315       Yes      0.0  \n",
       "3            19             No               470454        No      0.0  \n",
       "4            33             No               886787        No      0.0  \n",
       "...         ...            ...                  ...       ...      ...  \n",
       "351032       86            Yes              4242558       Yes      NaN  \n",
       "351033       86            Yes              1159153        No      NaN  \n",
       "351034       15             No              1703727        No      NaN  \n",
       "351035       93             No               737178       Yes      NaN  \n",
       "351036       21             No               591565        No      NaN  \n",
       "\n",
       "[351037 rows x 11 columns]"
      ]
     },
     "execution_count": 5,
     "metadata": {},
     "output_type": "execute_result"
    }
   ],
   "source": [
    "df"
   ]
  },
  {
   "cell_type": "code",
   "execution_count": 6,
   "id": "grave-feelings",
   "metadata": {},
   "outputs": [
    {
     "data": {
      "text/plain": [
       "ID                          0\n",
       "Gender                      0\n",
       "Age                         0\n",
       "Region_Code                 0\n",
       "Occupation                  0\n",
       "Channel_Code                0\n",
       "Vintage                     0\n",
       "Credit_Product          41847\n",
       "Avg_Account_Balance         0\n",
       "Is_Active                   0\n",
       "Is_Lead                105312\n",
       "dtype: int64"
      ]
     },
     "execution_count": 6,
     "metadata": {},
     "output_type": "execute_result"
    }
   ],
   "source": [
    "df.isnull().sum()"
   ]
  },
  {
   "cell_type": "code",
   "execution_count": 7,
   "id": "historic-senegal",
   "metadata": {},
   "outputs": [],
   "source": [
    "df.drop('ID', axis=1, inplace=True)"
   ]
  },
  {
   "cell_type": "code",
   "execution_count": 8,
   "id": "welsh-cooperation",
   "metadata": {},
   "outputs": [
    {
     "data": {
      "text/plain": [
       "array(['Female', 'Male'], dtype=object)"
      ]
     },
     "execution_count": 8,
     "metadata": {},
     "output_type": "execute_result"
    }
   ],
   "source": [
    "df.Gender.unique()"
   ]
  },
  {
   "cell_type": "code",
   "execution_count": 9,
   "id": "practical-grade",
   "metadata": {
    "scrolled": true
   },
   "outputs": [],
   "source": [
    "df = pd.get_dummies(df,columns=['Gender'])"
   ]
  },
  {
   "cell_type": "code",
   "execution_count": 10,
   "id": "wound-profile",
   "metadata": {},
   "outputs": [
    {
     "data": {
      "text/html": [
       "<div>\n",
       "<style scoped>\n",
       "    .dataframe tbody tr th:only-of-type {\n",
       "        vertical-align: middle;\n",
       "    }\n",
       "\n",
       "    .dataframe tbody tr th {\n",
       "        vertical-align: top;\n",
       "    }\n",
       "\n",
       "    .dataframe thead th {\n",
       "        text-align: right;\n",
       "    }\n",
       "</style>\n",
       "<table border=\"1\" class=\"dataframe\">\n",
       "  <thead>\n",
       "    <tr style=\"text-align: right;\">\n",
       "      <th></th>\n",
       "      <th>Age</th>\n",
       "      <th>Region_Code</th>\n",
       "      <th>Occupation</th>\n",
       "      <th>Channel_Code</th>\n",
       "      <th>Vintage</th>\n",
       "      <th>Credit_Product</th>\n",
       "      <th>Avg_Account_Balance</th>\n",
       "      <th>Is_Active</th>\n",
       "      <th>Is_Lead</th>\n",
       "      <th>Gender_Female</th>\n",
       "      <th>Gender_Male</th>\n",
       "    </tr>\n",
       "  </thead>\n",
       "  <tbody>\n",
       "    <tr>\n",
       "      <th>0</th>\n",
       "      <td>73</td>\n",
       "      <td>RG268</td>\n",
       "      <td>Other</td>\n",
       "      <td>X3</td>\n",
       "      <td>43</td>\n",
       "      <td>No</td>\n",
       "      <td>1045696</td>\n",
       "      <td>No</td>\n",
       "      <td>0.0</td>\n",
       "      <td>1</td>\n",
       "      <td>0</td>\n",
       "    </tr>\n",
       "    <tr>\n",
       "      <th>1</th>\n",
       "      <td>30</td>\n",
       "      <td>RG277</td>\n",
       "      <td>Salaried</td>\n",
       "      <td>X1</td>\n",
       "      <td>32</td>\n",
       "      <td>No</td>\n",
       "      <td>581988</td>\n",
       "      <td>No</td>\n",
       "      <td>0.0</td>\n",
       "      <td>1</td>\n",
       "      <td>0</td>\n",
       "    </tr>\n",
       "    <tr>\n",
       "      <th>2</th>\n",
       "      <td>56</td>\n",
       "      <td>RG268</td>\n",
       "      <td>Self_Employed</td>\n",
       "      <td>X3</td>\n",
       "      <td>26</td>\n",
       "      <td>No</td>\n",
       "      <td>1484315</td>\n",
       "      <td>Yes</td>\n",
       "      <td>0.0</td>\n",
       "      <td>1</td>\n",
       "      <td>0</td>\n",
       "    </tr>\n",
       "    <tr>\n",
       "      <th>3</th>\n",
       "      <td>34</td>\n",
       "      <td>RG270</td>\n",
       "      <td>Salaried</td>\n",
       "      <td>X1</td>\n",
       "      <td>19</td>\n",
       "      <td>No</td>\n",
       "      <td>470454</td>\n",
       "      <td>No</td>\n",
       "      <td>0.0</td>\n",
       "      <td>0</td>\n",
       "      <td>1</td>\n",
       "    </tr>\n",
       "    <tr>\n",
       "      <th>4</th>\n",
       "      <td>30</td>\n",
       "      <td>RG282</td>\n",
       "      <td>Salaried</td>\n",
       "      <td>X1</td>\n",
       "      <td>33</td>\n",
       "      <td>No</td>\n",
       "      <td>886787</td>\n",
       "      <td>No</td>\n",
       "      <td>0.0</td>\n",
       "      <td>1</td>\n",
       "      <td>0</td>\n",
       "    </tr>\n",
       "    <tr>\n",
       "      <th>...</th>\n",
       "      <td>...</td>\n",
       "      <td>...</td>\n",
       "      <td>...</td>\n",
       "      <td>...</td>\n",
       "      <td>...</td>\n",
       "      <td>...</td>\n",
       "      <td>...</td>\n",
       "      <td>...</td>\n",
       "      <td>...</td>\n",
       "      <td>...</td>\n",
       "      <td>...</td>\n",
       "    </tr>\n",
       "    <tr>\n",
       "      <th>351032</th>\n",
       "      <td>52</td>\n",
       "      <td>RG268</td>\n",
       "      <td>Salaried</td>\n",
       "      <td>X2</td>\n",
       "      <td>86</td>\n",
       "      <td>Yes</td>\n",
       "      <td>4242558</td>\n",
       "      <td>Yes</td>\n",
       "      <td>NaN</td>\n",
       "      <td>0</td>\n",
       "      <td>1</td>\n",
       "    </tr>\n",
       "    <tr>\n",
       "      <th>351033</th>\n",
       "      <td>55</td>\n",
       "      <td>RG277</td>\n",
       "      <td>Other</td>\n",
       "      <td>X2</td>\n",
       "      <td>86</td>\n",
       "      <td>Yes</td>\n",
       "      <td>1159153</td>\n",
       "      <td>No</td>\n",
       "      <td>NaN</td>\n",
       "      <td>0</td>\n",
       "      <td>1</td>\n",
       "    </tr>\n",
       "    <tr>\n",
       "      <th>351034</th>\n",
       "      <td>35</td>\n",
       "      <td>RG254</td>\n",
       "      <td>Salaried</td>\n",
       "      <td>X4</td>\n",
       "      <td>15</td>\n",
       "      <td>No</td>\n",
       "      <td>1703727</td>\n",
       "      <td>No</td>\n",
       "      <td>NaN</td>\n",
       "      <td>0</td>\n",
       "      <td>1</td>\n",
       "    </tr>\n",
       "    <tr>\n",
       "      <th>351035</th>\n",
       "      <td>53</td>\n",
       "      <td>RG254</td>\n",
       "      <td>Other</td>\n",
       "      <td>X3</td>\n",
       "      <td>93</td>\n",
       "      <td>No</td>\n",
       "      <td>737178</td>\n",
       "      <td>Yes</td>\n",
       "      <td>NaN</td>\n",
       "      <td>0</td>\n",
       "      <td>1</td>\n",
       "    </tr>\n",
       "    <tr>\n",
       "      <th>351036</th>\n",
       "      <td>27</td>\n",
       "      <td>RG256</td>\n",
       "      <td>Salaried</td>\n",
       "      <td>X1</td>\n",
       "      <td>21</td>\n",
       "      <td>No</td>\n",
       "      <td>591565</td>\n",
       "      <td>No</td>\n",
       "      <td>NaN</td>\n",
       "      <td>0</td>\n",
       "      <td>1</td>\n",
       "    </tr>\n",
       "  </tbody>\n",
       "</table>\n",
       "<p>351037 rows × 11 columns</p>\n",
       "</div>"
      ],
      "text/plain": [
       "        Age Region_Code     Occupation Channel_Code  Vintage Credit_Product  \\\n",
       "0        73       RG268          Other           X3       43             No   \n",
       "1        30       RG277       Salaried           X1       32             No   \n",
       "2        56       RG268  Self_Employed           X3       26             No   \n",
       "3        34       RG270       Salaried           X1       19             No   \n",
       "4        30       RG282       Salaried           X1       33             No   \n",
       "...     ...         ...            ...          ...      ...            ...   \n",
       "351032   52       RG268       Salaried           X2       86            Yes   \n",
       "351033   55       RG277          Other           X2       86            Yes   \n",
       "351034   35       RG254       Salaried           X4       15             No   \n",
       "351035   53       RG254          Other           X3       93             No   \n",
       "351036   27       RG256       Salaried           X1       21             No   \n",
       "\n",
       "        Avg_Account_Balance Is_Active  Is_Lead  Gender_Female  Gender_Male  \n",
       "0                   1045696        No      0.0              1            0  \n",
       "1                    581988        No      0.0              1            0  \n",
       "2                   1484315       Yes      0.0              1            0  \n",
       "3                    470454        No      0.0              0            1  \n",
       "4                    886787        No      0.0              1            0  \n",
       "...                     ...       ...      ...            ...          ...  \n",
       "351032              4242558       Yes      NaN              0            1  \n",
       "351033              1159153        No      NaN              0            1  \n",
       "351034              1703727        No      NaN              0            1  \n",
       "351035               737178       Yes      NaN              0            1  \n",
       "351036               591565        No      NaN              0            1  \n",
       "\n",
       "[351037 rows x 11 columns]"
      ]
     },
     "execution_count": 10,
     "metadata": {},
     "output_type": "execute_result"
    }
   ],
   "source": [
    "df"
   ]
  },
  {
   "cell_type": "code",
   "execution_count": 11,
   "id": "fourth-neighbor",
   "metadata": {
    "scrolled": true
   },
   "outputs": [
    {
     "data": {
      "text/plain": [
       "count    351037.000000\n",
       "mean         43.860716\n",
       "std          14.841932\n",
       "min          23.000000\n",
       "25%          30.000000\n",
       "50%          43.000000\n",
       "75%          54.000000\n",
       "max          85.000000\n",
       "Name: Age, dtype: float64"
      ]
     },
     "execution_count": 11,
     "metadata": {},
     "output_type": "execute_result"
    }
   ],
   "source": [
    "df.Age.describe()"
   ]
  },
  {
   "cell_type": "code",
   "execution_count": 12,
   "id": "meaningful-myrtle",
   "metadata": {},
   "outputs": [],
   "source": [
    "def age_cat(n):\n",
    "    if 23<= n <=34:\n",
    "        return 0\n",
    "    elif 35<= n <=45:\n",
    "        return 1\n",
    "    elif 46<= n <=60:\n",
    "        return 2\n",
    "    else:\n",
    "        return 3"
   ]
  },
  {
   "cell_type": "code",
   "execution_count": 13,
   "id": "sensitive-optics",
   "metadata": {},
   "outputs": [],
   "source": [
    "df.Age = list(map(age_cat,df.Age))"
   ]
  },
  {
   "cell_type": "code",
   "execution_count": 14,
   "id": "exclusive-lying",
   "metadata": {},
   "outputs": [
    {
     "data": {
      "text/plain": [
       "array(['RG268', 'RG277', 'RG270', 'RG282', 'RG261', 'RG265', 'RG283',\n",
       "       'RG254', 'RG269', 'RG257', 'RG279', 'RG280', 'RG252', 'RG284',\n",
       "       'RG259', 'RG281', 'RG258', 'RG266', 'RG260', 'RG274', 'RG256',\n",
       "       'RG275', 'RG273', 'RG267', 'RG272', 'RG251', 'RG262', 'RG264',\n",
       "       'RG278', 'RG276', 'RG263', 'RG250', 'RG255', 'RG253', 'RG271'],\n",
       "      dtype=object)"
      ]
     },
     "execution_count": 14,
     "metadata": {},
     "output_type": "execute_result"
    }
   ],
   "source": [
    "df.Region_Code.unique()"
   ]
  },
  {
   "cell_type": "code",
   "execution_count": 15,
   "id": "therapeutic-tracy",
   "metadata": {},
   "outputs": [],
   "source": [
    "df = pd.get_dummies(df,columns=['Region_Code'])"
   ]
  },
  {
   "cell_type": "code",
   "execution_count": 16,
   "id": "loaded-copper",
   "metadata": {},
   "outputs": [],
   "source": [
    "df = pd.get_dummies(df,columns=['Occupation'])"
   ]
  },
  {
   "cell_type": "code",
   "execution_count": 17,
   "id": "blessed-button",
   "metadata": {},
   "outputs": [
    {
     "data": {
      "text/plain": [
       "array(['X3', 'X1', 'X2', 'X4'], dtype=object)"
      ]
     },
     "execution_count": 17,
     "metadata": {},
     "output_type": "execute_result"
    }
   ],
   "source": [
    "df.Channel_Code.unique()"
   ]
  },
  {
   "cell_type": "code",
   "execution_count": 18,
   "id": "outer-spiritual",
   "metadata": {},
   "outputs": [],
   "source": [
    "df = pd.get_dummies(df,columns=['Channel_Code'])"
   ]
  },
  {
   "cell_type": "code",
   "execution_count": 19,
   "id": "numeric-consumer",
   "metadata": {},
   "outputs": [
    {
     "data": {
      "text/plain": [
       "count    351037.000000\n",
       "mean         46.924244\n",
       "std          32.329303\n",
       "min           7.000000\n",
       "25%          20.000000\n",
       "50%          32.000000\n",
       "75%          73.000000\n",
       "max         135.000000\n",
       "Name: Vintage, dtype: float64"
      ]
     },
     "execution_count": 19,
     "metadata": {},
     "output_type": "execute_result"
    }
   ],
   "source": [
    "df.Vintage.describe()"
   ]
  },
  {
   "cell_type": "code",
   "execution_count": 20,
   "id": "constant-emperor",
   "metadata": {},
   "outputs": [],
   "source": [
    "def vin_cat(n):\n",
    "    if 7<= n <=39:\n",
    "        return 0\n",
    "    elif 40<= n <=72:\n",
    "        return 1\n",
    "    elif 73<= n <=105:\n",
    "        return 2\n",
    "    else:\n",
    "        return 3"
   ]
  },
  {
   "cell_type": "code",
   "execution_count": 21,
   "id": "beautiful-asian",
   "metadata": {},
   "outputs": [],
   "source": [
    "df.Vintage = list(map(age_cat,df.Vintage))"
   ]
  },
  {
   "cell_type": "code",
   "execution_count": 22,
   "id": "adolescent-mother",
   "metadata": {
    "scrolled": true
   },
   "outputs": [
    {
     "data": {
      "text/html": [
       "<div>\n",
       "<style scoped>\n",
       "    .dataframe tbody tr th:only-of-type {\n",
       "        vertical-align: middle;\n",
       "    }\n",
       "\n",
       "    .dataframe tbody tr th {\n",
       "        vertical-align: top;\n",
       "    }\n",
       "\n",
       "    .dataframe thead th {\n",
       "        text-align: right;\n",
       "    }\n",
       "</style>\n",
       "<table border=\"1\" class=\"dataframe\">\n",
       "  <thead>\n",
       "    <tr style=\"text-align: right;\">\n",
       "      <th></th>\n",
       "      <th>Age</th>\n",
       "      <th>Vintage</th>\n",
       "      <th>Credit_Product</th>\n",
       "      <th>Avg_Account_Balance</th>\n",
       "      <th>Is_Active</th>\n",
       "      <th>Is_Lead</th>\n",
       "      <th>Gender_Female</th>\n",
       "      <th>Gender_Male</th>\n",
       "      <th>Region_Code_RG250</th>\n",
       "      <th>Region_Code_RG251</th>\n",
       "      <th>...</th>\n",
       "      <th>Region_Code_RG283</th>\n",
       "      <th>Region_Code_RG284</th>\n",
       "      <th>Occupation_Entrepreneur</th>\n",
       "      <th>Occupation_Other</th>\n",
       "      <th>Occupation_Salaried</th>\n",
       "      <th>Occupation_Self_Employed</th>\n",
       "      <th>Channel_Code_X1</th>\n",
       "      <th>Channel_Code_X2</th>\n",
       "      <th>Channel_Code_X3</th>\n",
       "      <th>Channel_Code_X4</th>\n",
       "    </tr>\n",
       "  </thead>\n",
       "  <tbody>\n",
       "    <tr>\n",
       "      <th>0</th>\n",
       "      <td>3</td>\n",
       "      <td>1</td>\n",
       "      <td>No</td>\n",
       "      <td>1045696</td>\n",
       "      <td>No</td>\n",
       "      <td>0.0</td>\n",
       "      <td>1</td>\n",
       "      <td>0</td>\n",
       "      <td>0</td>\n",
       "      <td>0</td>\n",
       "      <td>...</td>\n",
       "      <td>0</td>\n",
       "      <td>0</td>\n",
       "      <td>0</td>\n",
       "      <td>1</td>\n",
       "      <td>0</td>\n",
       "      <td>0</td>\n",
       "      <td>0</td>\n",
       "      <td>0</td>\n",
       "      <td>1</td>\n",
       "      <td>0</td>\n",
       "    </tr>\n",
       "    <tr>\n",
       "      <th>1</th>\n",
       "      <td>0</td>\n",
       "      <td>0</td>\n",
       "      <td>No</td>\n",
       "      <td>581988</td>\n",
       "      <td>No</td>\n",
       "      <td>0.0</td>\n",
       "      <td>1</td>\n",
       "      <td>0</td>\n",
       "      <td>0</td>\n",
       "      <td>0</td>\n",
       "      <td>...</td>\n",
       "      <td>0</td>\n",
       "      <td>0</td>\n",
       "      <td>0</td>\n",
       "      <td>0</td>\n",
       "      <td>1</td>\n",
       "      <td>0</td>\n",
       "      <td>1</td>\n",
       "      <td>0</td>\n",
       "      <td>0</td>\n",
       "      <td>0</td>\n",
       "    </tr>\n",
       "    <tr>\n",
       "      <th>2</th>\n",
       "      <td>2</td>\n",
       "      <td>0</td>\n",
       "      <td>No</td>\n",
       "      <td>1484315</td>\n",
       "      <td>Yes</td>\n",
       "      <td>0.0</td>\n",
       "      <td>1</td>\n",
       "      <td>0</td>\n",
       "      <td>0</td>\n",
       "      <td>0</td>\n",
       "      <td>...</td>\n",
       "      <td>0</td>\n",
       "      <td>0</td>\n",
       "      <td>0</td>\n",
       "      <td>0</td>\n",
       "      <td>0</td>\n",
       "      <td>1</td>\n",
       "      <td>0</td>\n",
       "      <td>0</td>\n",
       "      <td>1</td>\n",
       "      <td>0</td>\n",
       "    </tr>\n",
       "    <tr>\n",
       "      <th>3</th>\n",
       "      <td>0</td>\n",
       "      <td>3</td>\n",
       "      <td>No</td>\n",
       "      <td>470454</td>\n",
       "      <td>No</td>\n",
       "      <td>0.0</td>\n",
       "      <td>0</td>\n",
       "      <td>1</td>\n",
       "      <td>0</td>\n",
       "      <td>0</td>\n",
       "      <td>...</td>\n",
       "      <td>0</td>\n",
       "      <td>0</td>\n",
       "      <td>0</td>\n",
       "      <td>0</td>\n",
       "      <td>1</td>\n",
       "      <td>0</td>\n",
       "      <td>1</td>\n",
       "      <td>0</td>\n",
       "      <td>0</td>\n",
       "      <td>0</td>\n",
       "    </tr>\n",
       "    <tr>\n",
       "      <th>4</th>\n",
       "      <td>0</td>\n",
       "      <td>0</td>\n",
       "      <td>No</td>\n",
       "      <td>886787</td>\n",
       "      <td>No</td>\n",
       "      <td>0.0</td>\n",
       "      <td>1</td>\n",
       "      <td>0</td>\n",
       "      <td>0</td>\n",
       "      <td>0</td>\n",
       "      <td>...</td>\n",
       "      <td>0</td>\n",
       "      <td>0</td>\n",
       "      <td>0</td>\n",
       "      <td>0</td>\n",
       "      <td>1</td>\n",
       "      <td>0</td>\n",
       "      <td>1</td>\n",
       "      <td>0</td>\n",
       "      <td>0</td>\n",
       "      <td>0</td>\n",
       "    </tr>\n",
       "    <tr>\n",
       "      <th>5</th>\n",
       "      <td>2</td>\n",
       "      <td>0</td>\n",
       "      <td>No</td>\n",
       "      <td>544163</td>\n",
       "      <td>Yes</td>\n",
       "      <td>0.0</td>\n",
       "      <td>0</td>\n",
       "      <td>1</td>\n",
       "      <td>0</td>\n",
       "      <td>0</td>\n",
       "      <td>...</td>\n",
       "      <td>0</td>\n",
       "      <td>0</td>\n",
       "      <td>0</td>\n",
       "      <td>0</td>\n",
       "      <td>0</td>\n",
       "      <td>1</td>\n",
       "      <td>1</td>\n",
       "      <td>0</td>\n",
       "      <td>0</td>\n",
       "      <td>0</td>\n",
       "    </tr>\n",
       "    <tr>\n",
       "      <th>6</th>\n",
       "      <td>3</td>\n",
       "      <td>3</td>\n",
       "      <td>NaN</td>\n",
       "      <td>1056750</td>\n",
       "      <td>Yes</td>\n",
       "      <td>1.0</td>\n",
       "      <td>0</td>\n",
       "      <td>1</td>\n",
       "      <td>0</td>\n",
       "      <td>0</td>\n",
       "      <td>...</td>\n",
       "      <td>0</td>\n",
       "      <td>0</td>\n",
       "      <td>0</td>\n",
       "      <td>1</td>\n",
       "      <td>0</td>\n",
       "      <td>0</td>\n",
       "      <td>0</td>\n",
       "      <td>0</td>\n",
       "      <td>1</td>\n",
       "      <td>0</td>\n",
       "    </tr>\n",
       "    <tr>\n",
       "      <th>7</th>\n",
       "      <td>2</td>\n",
       "      <td>3</td>\n",
       "      <td>No</td>\n",
       "      <td>444724</td>\n",
       "      <td>Yes</td>\n",
       "      <td>0.0</td>\n",
       "      <td>1</td>\n",
       "      <td>0</td>\n",
       "      <td>0</td>\n",
       "      <td>0</td>\n",
       "      <td>...</td>\n",
       "      <td>0</td>\n",
       "      <td>0</td>\n",
       "      <td>0</td>\n",
       "      <td>0</td>\n",
       "      <td>0</td>\n",
       "      <td>1</td>\n",
       "      <td>0</td>\n",
       "      <td>0</td>\n",
       "      <td>1</td>\n",
       "      <td>0</td>\n",
       "    </tr>\n",
       "    <tr>\n",
       "      <th>8</th>\n",
       "      <td>1</td>\n",
       "      <td>1</td>\n",
       "      <td>No</td>\n",
       "      <td>1274284</td>\n",
       "      <td>No</td>\n",
       "      <td>0.0</td>\n",
       "      <td>1</td>\n",
       "      <td>0</td>\n",
       "      <td>0</td>\n",
       "      <td>0</td>\n",
       "      <td>...</td>\n",
       "      <td>1</td>\n",
       "      <td>0</td>\n",
       "      <td>0</td>\n",
       "      <td>0</td>\n",
       "      <td>0</td>\n",
       "      <td>1</td>\n",
       "      <td>0</td>\n",
       "      <td>1</td>\n",
       "      <td>0</td>\n",
       "      <td>0</td>\n",
       "    </tr>\n",
       "    <tr>\n",
       "      <th>9</th>\n",
       "      <td>2</td>\n",
       "      <td>2</td>\n",
       "      <td>Yes</td>\n",
       "      <td>2014239</td>\n",
       "      <td>No</td>\n",
       "      <td>0.0</td>\n",
       "      <td>1</td>\n",
       "      <td>0</td>\n",
       "      <td>0</td>\n",
       "      <td>0</td>\n",
       "      <td>...</td>\n",
       "      <td>0</td>\n",
       "      <td>0</td>\n",
       "      <td>0</td>\n",
       "      <td>0</td>\n",
       "      <td>0</td>\n",
       "      <td>1</td>\n",
       "      <td>0</td>\n",
       "      <td>1</td>\n",
       "      <td>0</td>\n",
       "      <td>0</td>\n",
       "    </tr>\n",
       "  </tbody>\n",
       "</table>\n",
       "<p>10 rows × 51 columns</p>\n",
       "</div>"
      ],
      "text/plain": [
       "   Age  Vintage Credit_Product  Avg_Account_Balance Is_Active  Is_Lead  \\\n",
       "0    3        1             No              1045696        No      0.0   \n",
       "1    0        0             No               581988        No      0.0   \n",
       "2    2        0             No              1484315       Yes      0.0   \n",
       "3    0        3             No               470454        No      0.0   \n",
       "4    0        0             No               886787        No      0.0   \n",
       "5    2        0             No               544163       Yes      0.0   \n",
       "6    3        3            NaN              1056750       Yes      1.0   \n",
       "7    2        3             No               444724       Yes      0.0   \n",
       "8    1        1             No              1274284        No      0.0   \n",
       "9    2        2            Yes              2014239        No      0.0   \n",
       "\n",
       "   Gender_Female  Gender_Male  Region_Code_RG250  Region_Code_RG251  ...  \\\n",
       "0              1            0                  0                  0  ...   \n",
       "1              1            0                  0                  0  ...   \n",
       "2              1            0                  0                  0  ...   \n",
       "3              0            1                  0                  0  ...   \n",
       "4              1            0                  0                  0  ...   \n",
       "5              0            1                  0                  0  ...   \n",
       "6              0            1                  0                  0  ...   \n",
       "7              1            0                  0                  0  ...   \n",
       "8              1            0                  0                  0  ...   \n",
       "9              1            0                  0                  0  ...   \n",
       "\n",
       "   Region_Code_RG283  Region_Code_RG284  Occupation_Entrepreneur  \\\n",
       "0                  0                  0                        0   \n",
       "1                  0                  0                        0   \n",
       "2                  0                  0                        0   \n",
       "3                  0                  0                        0   \n",
       "4                  0                  0                        0   \n",
       "5                  0                  0                        0   \n",
       "6                  0                  0                        0   \n",
       "7                  0                  0                        0   \n",
       "8                  1                  0                        0   \n",
       "9                  0                  0                        0   \n",
       "\n",
       "   Occupation_Other  Occupation_Salaried  Occupation_Self_Employed  \\\n",
       "0                 1                    0                         0   \n",
       "1                 0                    1                         0   \n",
       "2                 0                    0                         1   \n",
       "3                 0                    1                         0   \n",
       "4                 0                    1                         0   \n",
       "5                 0                    0                         1   \n",
       "6                 1                    0                         0   \n",
       "7                 0                    0                         1   \n",
       "8                 0                    0                         1   \n",
       "9                 0                    0                         1   \n",
       "\n",
       "   Channel_Code_X1  Channel_Code_X2  Channel_Code_X3  Channel_Code_X4  \n",
       "0                0                0                1                0  \n",
       "1                1                0                0                0  \n",
       "2                0                0                1                0  \n",
       "3                1                0                0                0  \n",
       "4                1                0                0                0  \n",
       "5                1                0                0                0  \n",
       "6                0                0                1                0  \n",
       "7                0                0                1                0  \n",
       "8                0                1                0                0  \n",
       "9                0                1                0                0  \n",
       "\n",
       "[10 rows x 51 columns]"
      ]
     },
     "execution_count": 22,
     "metadata": {},
     "output_type": "execute_result"
    }
   ],
   "source": [
    "df.head(10)"
   ]
  },
  {
   "cell_type": "code",
   "execution_count": 23,
   "id": "unlimited-psychiatry",
   "metadata": {},
   "outputs": [
    {
     "data": {
      "text/plain": [
       "4022185    172\n",
       "1611273     47\n",
       "936814      45\n",
       "4126262     44\n",
       "1142030     43\n",
       "          ... \n",
       "2199109      1\n",
       "3769924      1\n",
       "2250302      1\n",
       "1738276      1\n",
       "2320853      1\n",
       "Name: Avg_Account_Balance, Length: 162137, dtype: int64"
      ]
     },
     "execution_count": 23,
     "metadata": {},
     "output_type": "execute_result"
    }
   ],
   "source": [
    "df.Avg_Account_Balance.value_counts()"
   ]
  },
  {
   "cell_type": "code",
   "execution_count": 24,
   "id": "annual-shirt",
   "metadata": {},
   "outputs": [],
   "source": [
    "def aab_cat(n):\n",
    "    if 20790<= n <=500000:\n",
    "        return 0\n",
    "    elif 600001<= n <=895000:\n",
    "        return 1\n",
    "    elif 895001<= n <= 1378000:\n",
    "        return 2\n",
    "    else:\n",
    "        return 3"
   ]
  },
  {
   "cell_type": "code",
   "execution_count": 25,
   "id": "frank-leisure",
   "metadata": {},
   "outputs": [],
   "source": [
    "df.Avg_Account_Balance = list(map(aab_cat,df.Avg_Account_Balance))"
   ]
  },
  {
   "cell_type": "code",
   "execution_count": 26,
   "id": "sorted-farmer",
   "metadata": {},
   "outputs": [
    {
     "data": {
      "text/plain": [
       "No     214087\n",
       "Yes    136950\n",
       "Name: Is_Active, dtype: int64"
      ]
     },
     "execution_count": 26,
     "metadata": {},
     "output_type": "execute_result"
    }
   ],
   "source": [
    "df.Is_Active.value_counts()"
   ]
  },
  {
   "cell_type": "code",
   "execution_count": 27,
   "id": "composite-closing",
   "metadata": {},
   "outputs": [],
   "source": [
    "df = pd.get_dummies(df,columns=['Is_Active'])"
   ]
  },
  {
   "cell_type": "code",
   "execution_count": 28,
   "id": "wireless-fundamentals",
   "metadata": {},
   "outputs": [],
   "source": [
    "null_index = df[df['Credit_Product'].isnull()].index"
   ]
  },
  {
   "cell_type": "code",
   "execution_count": 29,
   "id": "lyric-graduate",
   "metadata": {},
   "outputs": [
    {
     "data": {
      "text/plain": [
       "Int64Index([     6,     15,     31,     36,     40,     43,     56,     60,\n",
       "                61,     66,\n",
       "            ...\n",
       "            350950, 350962, 350964, 350971, 350983, 350985, 350991, 350997,\n",
       "            351011, 351020],\n",
       "           dtype='int64', length=41847)"
      ]
     },
     "execution_count": 29,
     "metadata": {},
     "output_type": "execute_result"
    }
   ],
   "source": [
    "null_index"
   ]
  },
  {
   "cell_type": "code",
   "execution_count": 30,
   "id": "adjacent-worship",
   "metadata": {},
   "outputs": [],
   "source": [
    "cat_train_df = df.dropna()"
   ]
  },
  {
   "cell_type": "code",
   "execution_count": 31,
   "id": "peripheral-watts",
   "metadata": {},
   "outputs": [],
   "source": [
    "cat_test_df = df.iloc[null_index]"
   ]
  },
  {
   "cell_type": "code",
   "execution_count": 32,
   "id": "8c9c5d38",
   "metadata": {},
   "outputs": [],
   "source": [
    "cat_X_test = cat_test_df.drop(['Credit_Product','Is_Lead'],axis=1)"
   ]
  },
  {
   "cell_type": "code",
   "execution_count": 33,
   "id": "eligible-delivery",
   "metadata": {},
   "outputs": [
    {
     "name": "stderr",
     "output_type": "stream",
     "text": [
      "C:\\Users\\apurb\\miniconda3\\envs\\snake\\lib\\site-packages\\pandas\\core\\series.py:4509: SettingWithCopyWarning: \n",
      "A value is trying to be set on a copy of a slice from a DataFrame\n",
      "\n",
      "See the caveats in the documentation: https://pandas.pydata.org/pandas-docs/stable/user_guide/indexing.html#returning-a-view-versus-a-copy\n",
      "  return super().replace(\n"
     ]
    }
   ],
   "source": [
    "cat_train_df.Credit_Product.replace({'Yes':0, 'No':1}, inplace=True)"
   ]
  },
  {
   "cell_type": "code",
   "execution_count": 34,
   "id": "outstanding-tsunami",
   "metadata": {},
   "outputs": [],
   "source": [
    "cat_xtrain, cat_xtest, cat_ytrain, cat_ytest = train_test_split(cat_train_df.drop([\"Credit_Product\",\"Is_Lead\"], axis=1),cat_train_df.Credit_Product, test_size=0.25)"
   ]
  },
  {
   "cell_type": "code",
   "execution_count": 35,
   "id": "24a68f1a",
   "metadata": {},
   "outputs": [],
   "source": [
    "standard_scaler = preprocessing.StandardScaler()"
   ]
  },
  {
   "cell_type": "code",
   "execution_count": 36,
   "id": "d8d16ba0",
   "metadata": {},
   "outputs": [],
   "source": [
    "cat_xtrain = standard_scaler.fit_transform(cat_xtrain)\n",
    "cat_xtest = standard_scaler.fit_transform(cat_xtest)\n",
    "cat_X_test = standard_scaler.fit_transform(cat_X_test)"
   ]
  },
  {
   "cell_type": "code",
   "execution_count": 37,
   "id": "broad-plasma",
   "metadata": {},
   "outputs": [],
   "source": [
    "credit_model = XGBClassifier(learning_rate =0.2,n_estimators=150,)"
   ]
  },
  {
   "cell_type": "code",
   "execution_count": 38,
   "id": "negative-shepherd",
   "metadata": {
    "scrolled": true
   },
   "outputs": [
    {
     "name": "stderr",
     "output_type": "stream",
     "text": [
      "C:\\Users\\apurb\\miniconda3\\envs\\snake\\lib\\site-packages\\xgboost\\sklearn.py:888: UserWarning: The use of label encoder in XGBClassifier is deprecated and will be removed in a future release. To remove this warning, do the following: 1) Pass option use_label_encoder=False when constructing XGBClassifier object; and 2) Encode your labels (y) as integers starting with 0, i.e. 0, 1, 2, ..., [num_class - 1].\n",
      "  warnings.warn(label_encoder_deprecation_msg, UserWarning)\n"
     ]
    },
    {
     "name": "stdout",
     "output_type": "stream",
     "text": [
      "[00:02:40] WARNING: ..\\src\\learner.cc:1061: Starting in XGBoost 1.3.0, the default evaluation metric used with the objective 'binary:logistic' was changed from 'error' to 'logloss'. Explicitly set eval_metric if you'd like to restore the old behavior.\n"
     ]
    },
    {
     "data": {
      "text/plain": [
       "XGBClassifier(base_score=0.5, booster='gbtree', colsample_bylevel=1,\n",
       "              colsample_bynode=1, colsample_bytree=1, gamma=0, gpu_id=-1,\n",
       "              importance_type='gain', interaction_constraints='',\n",
       "              learning_rate=0.2, max_delta_step=0, max_depth=6,\n",
       "              min_child_weight=1, missing=nan, monotone_constraints='()',\n",
       "              n_estimators=150, n_jobs=8, num_parallel_tree=1, random_state=0,\n",
       "              reg_alpha=0, reg_lambda=1, scale_pos_weight=1, subsample=1,\n",
       "              tree_method='exact', validate_parameters=1, verbosity=None)"
      ]
     },
     "execution_count": 38,
     "metadata": {},
     "output_type": "execute_result"
    }
   ],
   "source": [
    "credit_model.fit(cat_xtrain, cat_ytrain)"
   ]
  },
  {
   "cell_type": "code",
   "execution_count": 39,
   "id": "assumed-treasure",
   "metadata": {},
   "outputs": [],
   "source": [
    "predictions = credit_model.predict(cat_xtest)"
   ]
  },
  {
   "cell_type": "code",
   "execution_count": 40,
   "id": "fatal-property",
   "metadata": {},
   "outputs": [
    {
     "data": {
      "text/plain": [
       "0.7272088724584104"
      ]
     },
     "execution_count": 40,
     "metadata": {},
     "output_type": "execute_result"
    }
   ],
   "source": [
    "accuracy_score(cat_ytest, predictions)"
   ]
  },
  {
   "cell_type": "code",
   "execution_count": 41,
   "id": "devoted-disclosure",
   "metadata": {},
   "outputs": [],
   "source": [
    "df.Credit_Product.replace({'Yes':0, 'No':1}, inplace=True)"
   ]
  },
  {
   "cell_type": "code",
   "execution_count": 42,
   "id": "serious-serum",
   "metadata": {},
   "outputs": [],
   "source": [
    "credit_missing = credit_model.predict(cat_X_test)"
   ]
  },
  {
   "cell_type": "code",
   "execution_count": 43,
   "id": "mexican-representative",
   "metadata": {},
   "outputs": [],
   "source": [
    "j=0\n",
    "for i in null_index:\n",
    "    df.iloc[i,2] = credit_missing[j]\n",
    "    j+=1"
   ]
  },
  {
   "cell_type": "markdown",
   "id": "42af7f92",
   "metadata": {},
   "source": [
    "# Model Testing"
   ]
  },
  {
   "cell_type": "code",
   "execution_count": 44,
   "id": "constitutional-western",
   "metadata": {},
   "outputs": [],
   "source": [
    "train_df = df.iloc[:245725,:]\n",
    "test_df = df.iloc[245725:,:]"
   ]
  },
  {
   "cell_type": "code",
   "execution_count": 45,
   "id": "e807c5a6",
   "metadata": {},
   "outputs": [],
   "source": [
    "X = train_df.drop([\"Is_Lead\"], axis=1)\n",
    "y = train_df[\"Is_Lead\"]"
   ]
  },
  {
   "cell_type": "code",
   "execution_count": 46,
   "id": "ecological-reducing",
   "metadata": {},
   "outputs": [],
   "source": [
    "model = XGBRegressor()"
   ]
  },
  {
   "cell_type": "markdown",
   "id": "bfa2bd4b",
   "metadata": {},
   "source": [
    "## Feature selection using sklearn's SelectKBest"
   ]
  },
  {
   "cell_type": "code",
   "execution_count": 47,
   "id": "0ada460f",
   "metadata": {},
   "outputs": [],
   "source": [
    "bestfeatures = feature_selection.SelectKBest(score_func=feature_selection.chi2, k=30)"
   ]
  },
  {
   "cell_type": "code",
   "execution_count": 48,
   "id": "e077f745",
   "metadata": {},
   "outputs": [],
   "source": [
    "fit = bestfeatures.fit(X, y)\n",
    "dfscore = pd.DataFrame(fit.scores_)\n",
    "dfcolumn = pd.DataFrame(X.columns)\n",
    "featureScore = pd.concat([dfcolumn,dfscore],axis=1)\n",
    "featureScore.columns = ['Features','Score']"
   ]
  },
  {
   "cell_type": "code",
   "execution_count": 49,
   "id": "48e84f41",
   "metadata": {},
   "outputs": [],
   "source": [
    "featureScore.sort_values('Score',ascending=False,inplace=True)\n",
    "featureScore.reset_index(drop=True,inplace=True)"
   ]
  },
  {
   "cell_type": "code",
   "execution_count": 50,
   "id": "6560f2bc",
   "metadata": {},
   "outputs": [
    {
     "data": {
      "text/html": [
       "<div>\n",
       "<style scoped>\n",
       "    .dataframe tbody tr th:only-of-type {\n",
       "        vertical-align: middle;\n",
       "    }\n",
       "\n",
       "    .dataframe tbody tr th {\n",
       "        vertical-align: top;\n",
       "    }\n",
       "\n",
       "    .dataframe thead th {\n",
       "        text-align: right;\n",
       "    }\n",
       "</style>\n",
       "<table border=\"1\" class=\"dataframe\">\n",
       "  <thead>\n",
       "    <tr style=\"text-align: right;\">\n",
       "      <th></th>\n",
       "      <th>Features</th>\n",
       "      <th>Score</th>\n",
       "    </tr>\n",
       "  </thead>\n",
       "  <tbody>\n",
       "    <tr>\n",
       "      <th>0</th>\n",
       "      <td>Age</td>\n",
       "      <td>15398.816790</td>\n",
       "    </tr>\n",
       "    <tr>\n",
       "      <th>1</th>\n",
       "      <td>Channel_Code_X1</td>\n",
       "      <td>12183.096547</td>\n",
       "    </tr>\n",
       "    <tr>\n",
       "      <th>2</th>\n",
       "      <td>Channel_Code_X3</td>\n",
       "      <td>6399.647674</td>\n",
       "    </tr>\n",
       "    <tr>\n",
       "      <th>3</th>\n",
       "      <td>Credit_Product</td>\n",
       "      <td>6377.384429</td>\n",
       "    </tr>\n",
       "    <tr>\n",
       "      <th>4</th>\n",
       "      <td>Vintage</td>\n",
       "      <td>4420.250026</td>\n",
       "    </tr>\n",
       "    <tr>\n",
       "      <th>5</th>\n",
       "      <td>Channel_Code_X2</td>\n",
       "      <td>3078.256689</td>\n",
       "    </tr>\n",
       "    <tr>\n",
       "      <th>6</th>\n",
       "      <td>Occupation_Entrepreneur</td>\n",
       "      <td>2643.079817</td>\n",
       "    </tr>\n",
       "    <tr>\n",
       "      <th>7</th>\n",
       "      <td>Occupation_Salaried</td>\n",
       "      <td>2392.408231</td>\n",
       "    </tr>\n",
       "    <tr>\n",
       "      <th>8</th>\n",
       "      <td>Is_Active_Yes</td>\n",
       "      <td>1104.406107</td>\n",
       "    </tr>\n",
       "    <tr>\n",
       "      <th>9</th>\n",
       "      <td>Occupation_Self_Employed</td>\n",
       "      <td>837.507017</td>\n",
       "    </tr>\n",
       "    <tr>\n",
       "      <th>10</th>\n",
       "      <td>Region_Code_RG268</td>\n",
       "      <td>778.034234</td>\n",
       "    </tr>\n",
       "    <tr>\n",
       "      <th>11</th>\n",
       "      <td>Is_Active_No</td>\n",
       "      <td>701.304124</td>\n",
       "    </tr>\n",
       "    <tr>\n",
       "      <th>12</th>\n",
       "      <td>Gender_Female</td>\n",
       "      <td>696.990561</td>\n",
       "    </tr>\n",
       "    <tr>\n",
       "      <th>13</th>\n",
       "      <td>Region_Code_RG283</td>\n",
       "      <td>683.455614</td>\n",
       "    </tr>\n",
       "    <tr>\n",
       "      <th>14</th>\n",
       "      <td>Gender_Male</td>\n",
       "      <td>579.252616</td>\n",
       "    </tr>\n",
       "    <tr>\n",
       "      <th>15</th>\n",
       "      <td>Avg_Account_Balance</td>\n",
       "      <td>533.155699</td>\n",
       "    </tr>\n",
       "    <tr>\n",
       "      <th>16</th>\n",
       "      <td>Region_Code_RG284</td>\n",
       "      <td>434.990044</td>\n",
       "    </tr>\n",
       "    <tr>\n",
       "      <th>17</th>\n",
       "      <td>Region_Code_RG270</td>\n",
       "      <td>368.286102</td>\n",
       "    </tr>\n",
       "    <tr>\n",
       "      <th>18</th>\n",
       "      <td>Region_Code_RG252</td>\n",
       "      <td>232.554438</td>\n",
       "    </tr>\n",
       "    <tr>\n",
       "      <th>19</th>\n",
       "      <td>Region_Code_RG261</td>\n",
       "      <td>202.320914</td>\n",
       "    </tr>\n",
       "    <tr>\n",
       "      <th>20</th>\n",
       "      <td>Region_Code_RG264</td>\n",
       "      <td>154.606361</td>\n",
       "    </tr>\n",
       "    <tr>\n",
       "      <th>21</th>\n",
       "      <td>Region_Code_RG274</td>\n",
       "      <td>152.474565</td>\n",
       "    </tr>\n",
       "    <tr>\n",
       "      <th>22</th>\n",
       "      <td>Region_Code_RG256</td>\n",
       "      <td>146.093007</td>\n",
       "    </tr>\n",
       "    <tr>\n",
       "      <th>23</th>\n",
       "      <td>Region_Code_RG254</td>\n",
       "      <td>87.982936</td>\n",
       "    </tr>\n",
       "    <tr>\n",
       "      <th>24</th>\n",
       "      <td>Region_Code_RG250</td>\n",
       "      <td>87.748399</td>\n",
       "    </tr>\n",
       "    <tr>\n",
       "      <th>25</th>\n",
       "      <td>Region_Code_RG275</td>\n",
       "      <td>87.560632</td>\n",
       "    </tr>\n",
       "    <tr>\n",
       "      <th>26</th>\n",
       "      <td>Region_Code_RG266</td>\n",
       "      <td>83.401037</td>\n",
       "    </tr>\n",
       "    <tr>\n",
       "      <th>27</th>\n",
       "      <td>Region_Code_RG257</td>\n",
       "      <td>69.610292</td>\n",
       "    </tr>\n",
       "    <tr>\n",
       "      <th>28</th>\n",
       "      <td>Region_Code_RG282</td>\n",
       "      <td>65.425517</td>\n",
       "    </tr>\n",
       "    <tr>\n",
       "      <th>29</th>\n",
       "      <td>Region_Code_RG267</td>\n",
       "      <td>64.424801</td>\n",
       "    </tr>\n",
       "    <tr>\n",
       "      <th>30</th>\n",
       "      <td>Region_Code_RG271</td>\n",
       "      <td>39.345614</td>\n",
       "    </tr>\n",
       "    <tr>\n",
       "      <th>31</th>\n",
       "      <td>Region_Code_RG260</td>\n",
       "      <td>36.704921</td>\n",
       "    </tr>\n",
       "    <tr>\n",
       "      <th>32</th>\n",
       "      <td>Region_Code_RG262</td>\n",
       "      <td>31.611326</td>\n",
       "    </tr>\n",
       "    <tr>\n",
       "      <th>33</th>\n",
       "      <td>Region_Code_RG259</td>\n",
       "      <td>27.010163</td>\n",
       "    </tr>\n",
       "    <tr>\n",
       "      <th>34</th>\n",
       "      <td>Region_Code_RG276</td>\n",
       "      <td>25.241871</td>\n",
       "    </tr>\n",
       "    <tr>\n",
       "      <th>35</th>\n",
       "      <td>Occupation_Other</td>\n",
       "      <td>23.254604</td>\n",
       "    </tr>\n",
       "    <tr>\n",
       "      <th>36</th>\n",
       "      <td>Region_Code_RG269</td>\n",
       "      <td>10.490467</td>\n",
       "    </tr>\n",
       "    <tr>\n",
       "      <th>37</th>\n",
       "      <td>Region_Code_RG281</td>\n",
       "      <td>9.609156</td>\n",
       "    </tr>\n",
       "    <tr>\n",
       "      <th>38</th>\n",
       "      <td>Region_Code_RG272</td>\n",
       "      <td>8.679233</td>\n",
       "    </tr>\n",
       "    <tr>\n",
       "      <th>39</th>\n",
       "      <td>Region_Code_RG253</td>\n",
       "      <td>4.823010</td>\n",
       "    </tr>\n",
       "    <tr>\n",
       "      <th>40</th>\n",
       "      <td>Region_Code_RG263</td>\n",
       "      <td>4.799790</td>\n",
       "    </tr>\n",
       "    <tr>\n",
       "      <th>41</th>\n",
       "      <td>Region_Code_RG265</td>\n",
       "      <td>3.958382</td>\n",
       "    </tr>\n",
       "    <tr>\n",
       "      <th>42</th>\n",
       "      <td>Channel_Code_X4</td>\n",
       "      <td>3.453047</td>\n",
       "    </tr>\n",
       "    <tr>\n",
       "      <th>43</th>\n",
       "      <td>Region_Code_RG278</td>\n",
       "      <td>3.143771</td>\n",
       "    </tr>\n",
       "    <tr>\n",
       "      <th>44</th>\n",
       "      <td>Region_Code_RG258</td>\n",
       "      <td>3.046335</td>\n",
       "    </tr>\n",
       "    <tr>\n",
       "      <th>45</th>\n",
       "      <td>Region_Code_RG279</td>\n",
       "      <td>2.959197</td>\n",
       "    </tr>\n",
       "    <tr>\n",
       "      <th>46</th>\n",
       "      <td>Region_Code_RG277</td>\n",
       "      <td>1.959386</td>\n",
       "    </tr>\n",
       "    <tr>\n",
       "      <th>47</th>\n",
       "      <td>Region_Code_RG251</td>\n",
       "      <td>0.857797</td>\n",
       "    </tr>\n",
       "    <tr>\n",
       "      <th>48</th>\n",
       "      <td>Region_Code_RG255</td>\n",
       "      <td>0.256955</td>\n",
       "    </tr>\n",
       "    <tr>\n",
       "      <th>49</th>\n",
       "      <td>Region_Code_RG280</td>\n",
       "      <td>0.196929</td>\n",
       "    </tr>\n",
       "    <tr>\n",
       "      <th>50</th>\n",
       "      <td>Region_Code_RG273</td>\n",
       "      <td>0.006358</td>\n",
       "    </tr>\n",
       "  </tbody>\n",
       "</table>\n",
       "</div>"
      ],
      "text/plain": [
       "                    Features         Score\n",
       "0                        Age  15398.816790\n",
       "1            Channel_Code_X1  12183.096547\n",
       "2            Channel_Code_X3   6399.647674\n",
       "3             Credit_Product   6377.384429\n",
       "4                    Vintage   4420.250026\n",
       "5            Channel_Code_X2   3078.256689\n",
       "6    Occupation_Entrepreneur   2643.079817\n",
       "7        Occupation_Salaried   2392.408231\n",
       "8              Is_Active_Yes   1104.406107\n",
       "9   Occupation_Self_Employed    837.507017\n",
       "10         Region_Code_RG268    778.034234\n",
       "11              Is_Active_No    701.304124\n",
       "12             Gender_Female    696.990561\n",
       "13         Region_Code_RG283    683.455614\n",
       "14               Gender_Male    579.252616\n",
       "15       Avg_Account_Balance    533.155699\n",
       "16         Region_Code_RG284    434.990044\n",
       "17         Region_Code_RG270    368.286102\n",
       "18         Region_Code_RG252    232.554438\n",
       "19         Region_Code_RG261    202.320914\n",
       "20         Region_Code_RG264    154.606361\n",
       "21         Region_Code_RG274    152.474565\n",
       "22         Region_Code_RG256    146.093007\n",
       "23         Region_Code_RG254     87.982936\n",
       "24         Region_Code_RG250     87.748399\n",
       "25         Region_Code_RG275     87.560632\n",
       "26         Region_Code_RG266     83.401037\n",
       "27         Region_Code_RG257     69.610292\n",
       "28         Region_Code_RG282     65.425517\n",
       "29         Region_Code_RG267     64.424801\n",
       "30         Region_Code_RG271     39.345614\n",
       "31         Region_Code_RG260     36.704921\n",
       "32         Region_Code_RG262     31.611326\n",
       "33         Region_Code_RG259     27.010163\n",
       "34         Region_Code_RG276     25.241871\n",
       "35          Occupation_Other     23.254604\n",
       "36         Region_Code_RG269     10.490467\n",
       "37         Region_Code_RG281      9.609156\n",
       "38         Region_Code_RG272      8.679233\n",
       "39         Region_Code_RG253      4.823010\n",
       "40         Region_Code_RG263      4.799790\n",
       "41         Region_Code_RG265      3.958382\n",
       "42           Channel_Code_X4      3.453047\n",
       "43         Region_Code_RG278      3.143771\n",
       "44         Region_Code_RG258      3.046335\n",
       "45         Region_Code_RG279      2.959197\n",
       "46         Region_Code_RG277      1.959386\n",
       "47         Region_Code_RG251      0.857797\n",
       "48         Region_Code_RG255      0.256955\n",
       "49         Region_Code_RG280      0.196929\n",
       "50         Region_Code_RG273      0.006358"
      ]
     },
     "execution_count": 50,
     "metadata": {},
     "output_type": "execute_result"
    }
   ],
   "source": [
    "featureScore"
   ]
  },
  {
   "cell_type": "code",
   "execution_count": 52,
   "id": "314ac1eb",
   "metadata": {},
   "outputs": [],
   "source": [
    "top_14_features = featureScore.Features.to_list()[:14]"
   ]
  },
  {
   "cell_type": "code",
   "execution_count": 53,
   "id": "f5a95410",
   "metadata": {},
   "outputs": [],
   "source": [
    "test_df_final = test_df[top_14_features]"
   ]
  },
  {
   "cell_type": "code",
   "execution_count": 54,
   "id": "aac06119",
   "metadata": {
    "scrolled": false
   },
   "outputs": [],
   "source": [
    "X_train, X_test, y_train, y_test = train_test_split(train_df[top_14_features], y, test_size=0.3, random_state=42)\n",
    "\n",
    "standard_scaler.fit(X_train)\n",
    "X_train4 = standard_scaler.transform(X_train)\n",
    "standard_scaler.fit(X_test)\n",
    "X_test4 = standard_scaler.transform(X_test)\n",
    "standard_scaler.fit(test_df_final)\n",
    "test_df = standard_scaler.transform(test_df_final)"
   ]
  },
  {
   "cell_type": "code",
   "execution_count": 55,
   "id": "47b24496",
   "metadata": {},
   "outputs": [
    {
     "data": {
      "text/plain": [
       "0.7865556941555372"
      ]
     },
     "execution_count": 55,
     "metadata": {},
     "output_type": "execute_result"
    }
   ],
   "source": [
    "model.fit(X_train, y_train)\n",
    "pred = model.predict(X_test)\n",
    "metrics.roc_auc_score(y_test, pred)"
   ]
  },
  {
   "cell_type": "code",
   "execution_count": 57,
   "id": "55dcec81",
   "metadata": {},
   "outputs": [],
   "source": [
    "final_prediction = model.predict(test_df_final)"
   ]
  },
  {
   "cell_type": "code",
   "execution_count": 58,
   "id": "59c28a6c",
   "metadata": {},
   "outputs": [],
   "source": [
    "submissions = pd.DataFrame()"
   ]
  },
  {
   "cell_type": "code",
   "execution_count": 59,
   "id": "78f46689",
   "metadata": {},
   "outputs": [],
   "source": [
    "submissions['ID'] = test['ID']"
   ]
  },
  {
   "cell_type": "code",
   "execution_count": 60,
   "id": "5c38dfeb",
   "metadata": {},
   "outputs": [],
   "source": [
    "submissions['Is_Lead'] = final_prediction"
   ]
  },
  {
   "cell_type": "code",
   "execution_count": 63,
   "id": "6f2f7ed7",
   "metadata": {},
   "outputs": [],
   "source": [
    "submissions.to_csv(\"Submission.csv\")"
   ]
  },
  {
   "cell_type": "code",
   "execution_count": null,
   "id": "d3939267",
   "metadata": {},
   "outputs": [],
   "source": []
  }
 ],
 "metadata": {
  "kernelspec": {
   "display_name": "Python 3",
   "language": "python",
   "name": "python3"
  },
  "language_info": {
   "codemirror_mode": {
    "name": "ipython",
    "version": 3
   },
   "file_extension": ".py",
   "mimetype": "text/x-python",
   "name": "python",
   "nbconvert_exporter": "python",
   "pygments_lexer": "ipython3",
   "version": "3.8.10"
  }
 },
 "nbformat": 4,
 "nbformat_minor": 5
}
